{
 "cells": [
  {
   "cell_type": "code",
   "execution_count": 1,
   "metadata": {
    "_cell_guid": "b1076dfc-b9ad-4769-8c92-a6c4dae69d19",
    "_uuid": "8f2839f25d086af736a60e9eeb907d3b93b6e0e5",
    "editable": false,
    "papermill": {
     "duration": 1.108427,
     "end_time": "2024-05-10T15:50:33.367327",
     "exception": false,
     "start_time": "2024-05-10T15:50:32.258900",
     "status": "completed"
    },
    "tags": []
   },
   "outputs": [
    {
     "ename": "ModuleNotFoundError",
     "evalue": "No module named 'numpy'",
     "output_type": "error",
     "traceback": [
      "\u001b[0;31m---------------------------------------------------------------------------\u001b[0m",
      "\u001b[0;31mModuleNotFoundError\u001b[0m                       Traceback (most recent call last)",
      "\u001b[0;32m<ipython-input-1-51279f9b147b>\u001b[0m in \u001b[0;36m<module>\u001b[0;34m\u001b[0m\n\u001b[1;32m      3\u001b[0m \u001b[0;31m# For example, here's several helpful packages to load\u001b[0m\u001b[0;34m\u001b[0m\u001b[0;34m\u001b[0m\u001b[0;34m\u001b[0m\u001b[0m\n\u001b[1;32m      4\u001b[0m \u001b[0;34m\u001b[0m\u001b[0m\n\u001b[0;32m----> 5\u001b[0;31m \u001b[0;32mimport\u001b[0m \u001b[0mnumpy\u001b[0m \u001b[0;32mas\u001b[0m \u001b[0mnp\u001b[0m \u001b[0;31m# linear algebra\u001b[0m\u001b[0;34m\u001b[0m\u001b[0;34m\u001b[0m\u001b[0m\n\u001b[0m\u001b[1;32m      6\u001b[0m \u001b[0;32mimport\u001b[0m \u001b[0mpandas\u001b[0m \u001b[0;32mas\u001b[0m \u001b[0mpd\u001b[0m \u001b[0;31m# data processing, CSV file I/O (e.g. pd.read_csv)\u001b[0m\u001b[0;34m\u001b[0m\u001b[0;34m\u001b[0m\u001b[0m\n\u001b[1;32m      7\u001b[0m \u001b[0;34m\u001b[0m\u001b[0m\n",
      "\u001b[0;31mModuleNotFoundError\u001b[0m: No module named 'numpy'"
     ]
    }
   ],
   "source": [
    "# This Python 3 environment comes with many helpful analytics libraries installed\n",
    "# It is defined by the kaggle/python Docker image: https://github.com/kaggle/docker-python\n",
    "# For example, here's several helpful packages to load\n",
    "    \n",
    "import numpy as np # linear algebra\n",
    "import pandas as pd # data processing, CSV file I/O (e.g. pd.read_csv)\n",
    "\n",
    "# Input data files are available in the read-only \"../input/\" directory\n",
    "# For example, running this (by clicking run or pressing Shift+Enter) will list all files under the input directory\n",
    "\n",
    "input_file = ''\n",
    "import os\n",
    "for dirname, _, filenames in os.walk('/kaggle/input'):\n",
    "    for filename in filenames:\n",
    "        input_file = os.path.join(dirname, filename)\n",
    "        print(input_file)\n",
    "\n",
    "# You can write up to 20GB to the current directory (/kaggle/working/) that gets preserved as output when you create a version using \"Save & Run All\" \n",
    "# You can also write temporary files to /kaggle/temp/, but they won't be saved outside of the current session"
   ]
  },
  {
   "cell_type": "markdown",
   "metadata": {
    "editable": false,
    "papermill": {
     "duration": 0.007006,
     "end_time": "2024-05-10T15:50:33.381845",
     "exception": false,
     "start_time": "2024-05-10T15:50:33.374839",
     "status": "completed"
    },
    "tags": []
   },
   "source": [
    "## **Important Libraries**"
   ]
  },
  {
   "cell_type": "code",
   "execution_count": null,
   "metadata": {
    "editable": false,
    "execution": {
     "iopub.execute_input": "2024-05-20T16:09:28.891655Z",
     "iopub.status.busy": "2024-05-20T16:09:28.890653Z",
     "iopub.status.idle": "2024-05-20T16:09:34.401287Z",
     "shell.execute_reply": "2024-05-20T16:09:34.400204Z",
     "shell.execute_reply.started": "2024-05-20T16:09:28.891607Z"
    },
    "papermill": {
     "duration": 1.61585,
     "end_time": "2024-05-10T15:50:35.005085",
     "exception": false,
     "start_time": "2024-05-10T15:50:33.389235",
     "status": "completed"
    },
    "tags": []
   },
   "outputs": [],
   "source": [
    "import numpy as np\n",
    "import pandas as pd\n",
    "import matplotlib.pyplot as plt\n",
    "import seaborn as sns\n",
    "\n",
    "\n",
    "# moore libraries\n",
    "import torch\n",
    "import torch.nn as nn\n",
    "import torch.nn.functional as F\n",
    "from torch.utils.data import DataLoader, TensorDataset\n",
    "\n",
    "\n",
    "import sklearn\n",
    "from sklearn import preprocessing\n",
    "from sklearn.model_selection import train_test_split\n",
    "# Label Encoding\n",
    "from sklearn.preprocessing import LabelEncoder"
   ]
  },
  {
   "cell_type": "markdown",
   "metadata": {
    "editable": false,
    "papermill": {
     "duration": 0.007128,
     "end_time": "2024-05-10T15:50:35.020157",
     "exception": false,
     "start_time": "2024-05-10T15:50:35.013029",
     "status": "completed"
    },
    "tags": []
   },
   "source": [
    "## Import and Pre-process Data "
   ]
  },
  {
   "cell_type": "code",
   "execution_count": null,
   "metadata": {
    "editable": false,
    "execution": {
     "iopub.execute_input": "2024-05-20T16:09:34.403761Z",
     "iopub.status.busy": "2024-05-20T16:09:34.403117Z",
     "iopub.status.idle": "2024-05-20T16:09:34.607662Z",
     "shell.execute_reply": "2024-05-20T16:09:34.606475Z",
     "shell.execute_reply.started": "2024-05-20T16:09:34.403720Z"
    },
    "papermill": {
     "duration": 0.086678,
     "end_time": "2024-05-10T15:50:35.114377",
     "exception": false,
     "start_time": "2024-05-10T15:50:35.027699",
     "status": "completed"
    },
    "tags": []
   },
   "outputs": [],
   "source": [
    "data = pd.read_csv(input_file)\n",
    "original_data = data.copy() # needed for later\n",
    "\n",
    "data.head()"
   ]
  },
  {
   "cell_type": "code",
   "execution_count": null,
   "metadata": {
    "editable": false,
    "execution": {
     "iopub.execute_input": "2024-05-20T16:09:34.609237Z",
     "iopub.status.busy": "2024-05-20T16:09:34.608882Z",
     "iopub.status.idle": "2024-05-20T16:09:34.638966Z",
     "shell.execute_reply": "2024-05-20T16:09:34.637519Z",
     "shell.execute_reply.started": "2024-05-20T16:09:34.609205Z"
    },
    "papermill": {
     "duration": 0.044054,
     "end_time": "2024-05-10T15:50:35.167033",
     "exception": false,
     "start_time": "2024-05-10T15:50:35.122979",
     "status": "completed"
    },
    "tags": []
   },
   "outputs": [],
   "source": [
    "data.info()\n",
    "data.columns"
   ]
  },
  {
   "cell_type": "markdown",
   "metadata": {
    "editable": false,
    "papermill": {
     "duration": 0.008465,
     "end_time": "2024-05-10T15:50:35.184165",
     "exception": false,
     "start_time": "2024-05-10T15:50:35.175700",
     "status": "completed"
    },
    "tags": []
   },
   "source": []
  },
  {
   "cell_type": "markdown",
   "metadata": {
    "editable": false,
    "papermill": {
     "duration": 0.011232,
     "end_time": "2024-05-10T15:50:35.787198",
     "exception": false,
     "start_time": "2024-05-10T15:50:35.775966",
     "status": "completed"
    },
    "tags": []
   },
   "source": [
    "## Visualizing data\n",
    "\n",
    "### **1. Non numeric data using count plot**"
   ]
  },
  {
   "cell_type": "code",
   "execution_count": null,
   "metadata": {
    "editable": false,
    "execution": {
     "iopub.execute_input": "2024-05-20T16:09:34.642683Z",
     "iopub.status.busy": "2024-05-20T16:09:34.642294Z",
     "iopub.status.idle": "2024-05-20T16:09:34.648923Z",
     "shell.execute_reply": "2024-05-20T16:09:34.647636Z",
     "shell.execute_reply.started": "2024-05-20T16:09:34.642647Z"
    }
   },
   "outputs": [],
   "source": [
    "non_numeric_columns = ['sex', 'activities','address','famsup','Mjob', 'Fjob', \n",
    "                       'school', 'nursery', 'Pstatus', 'paid','guardian', 'famsize', \n",
    "                       'schoolsup', 'reason', 'higher', 'internet', 'romantic',\n",
    "                       ]"
   ]
  },
  {
   "cell_type": "code",
   "execution_count": null,
   "metadata": {
    "editable": false
   },
   "outputs": [],
   "source": [
    "for "
   ]
  },
  {
   "cell_type": "code",
   "execution_count": null,
   "metadata": {
    "editable": false,
    "execution": {
     "iopub.execute_input": "2024-05-20T16:09:34.650973Z",
     "iopub.status.busy": "2024-05-20T16:09:34.650507Z",
     "iopub.status.idle": "2024-05-20T16:09:43.937053Z",
     "shell.execute_reply": "2024-05-20T16:09:43.935811Z",
     "shell.execute_reply.started": "2024-05-20T16:09:34.650930Z"
    }
   },
   "outputs": [],
   "source": [
    "for col in non_numeric_columns:\n",
    "    plt.figure(figsize=(10, 6))\n",
    "    sns.countplot(x=col, hue='G3', data=data)\n",
    "    plt.title(f'Count Plot of {col} vs Target')\n",
    "    plt.show()"
   ]
  },
  {
   "cell_type": "markdown",
   "metadata": {
    "editable": false
   },
   "source": [
    "In these plots we see that the non-numeric features are each encoded to categories with numeric values, and there are bell (gaussian) curves for each categories\n",
    "\n",
    "The bell curves show the frequency distribution of final grade `G3` for each category.\n",
    "\n",
    "If the width and height of the curves are almost the same for each category for a given feature, then we can assume that that feature is not correlated with target feature and therefore does not affect the target attribute much. But if one or more of the curves are very high or wide while one or more others are very low or narrow, then we can safely assume that feature has a strong correlation with the target feature and therefore affects it greatly.\n",
    "\n",
    "In this light, we can assume the following two features have lower correlation with target attribute `G3`, and thus we can safely drop them from our dataframe:\n",
    "- activities\n",
    "- paid\n",
    "\n",
    "therefore let's remove them."
   ]
  },
  {
   "cell_type": "code",
   "execution_count": null,
   "metadata": {
    "editable": false,
    "execution": {
     "iopub.execute_input": "2024-05-20T16:09:43.938926Z",
     "iopub.status.busy": "2024-05-20T16:09:43.938571Z",
     "iopub.status.idle": "2024-05-20T16:09:43.946138Z",
     "shell.execute_reply": "2024-05-20T16:09:43.944747Z",
     "shell.execute_reply.started": "2024-05-20T16:09:43.938894Z"
    }
   },
   "outputs": [],
   "source": [
    "data = data.drop(columns=['activities', 'paid'], axis=1)"
   ]
  },
  {
   "cell_type": "markdown",
   "metadata": {
    "editable": false
   },
   "source": [
    "### **Encoding non-numeric values**"
   ]
  },
  {
   "cell_type": "markdown",
   "metadata": {
    "editable": false
   },
   "source": [
    "**We will use label encoding technique**"
   ]
  },
  {
   "cell_type": "code",
   "execution_count": null,
   "metadata": {
    "editable": false,
    "execution": {
     "iopub.execute_input": "2024-05-20T16:09:43.948260Z",
     "iopub.status.busy": "2024-05-20T16:09:43.947800Z",
     "iopub.status.idle": "2024-05-20T16:09:43.981565Z",
     "shell.execute_reply": "2024-05-20T16:09:43.980068Z",
     "shell.execute_reply.started": "2024-05-20T16:09:43.948228Z"
    }
   },
   "outputs": [],
   "source": [
    "non_numeric_columns.remove('activities')\n",
    "non_numeric_columns.remove('paid')\n",
    "label_encoder = LabelEncoder()\n",
    "data_label_encoded = data.copy()\n",
    "for column in non_numeric_columns:\n",
    "    data_label_encoded[column] = label_encoder.fit_transform(data_label_encoded[column])\n",
    "\n",
    "print(\"\\nLabel Encoded Data:\")\n",
    "print(data_label_encoded.head())"
   ]
  },
  {
   "cell_type": "code",
   "execution_count": null,
   "metadata": {
    "editable": false,
    "execution": {
     "iopub.execute_input": "2024-05-20T16:09:43.983610Z",
     "iopub.status.busy": "2024-05-20T16:09:43.983249Z",
     "iopub.status.idle": "2024-05-20T16:09:43.999816Z",
     "shell.execute_reply": "2024-05-20T16:09:43.998569Z",
     "shell.execute_reply.started": "2024-05-20T16:09:43.983580Z"
    }
   },
   "outputs": [],
   "source": [
    "data = data_label_encoded\n",
    "\n",
    "data.info()"
   ]
  },
  {
   "cell_type": "markdown",
   "metadata": {
    "editable": false
   },
   "source": [
    "### **2. Numeric data using correlations and scatter plot**"
   ]
  },
  {
   "cell_type": "markdown",
   "metadata": {
    "editable": false
   },
   "source": []
  },
  {
   "cell_type": "markdown",
   "metadata": {
    "editable": false,
    "papermill": {
     "duration": 0.00953,
     "end_time": "2024-05-10T15:50:35.845505",
     "exception": false,
     "start_time": "2024-05-10T15:50:35.835975",
     "status": "completed"
    },
    "tags": []
   },
   "source": [
    "### Use Scatter plot of individual features"
   ]
  },
  {
   "cell_type": "code",
   "execution_count": null,
   "metadata": {
    "editable": false,
    "execution": {
     "iopub.execute_input": "2024-05-20T16:09:44.001838Z",
     "iopub.status.busy": "2024-05-20T16:09:44.001464Z",
     "iopub.status.idle": "2024-05-20T16:09:44.018339Z",
     "shell.execute_reply": "2024-05-20T16:09:44.017128Z",
     "shell.execute_reply.started": "2024-05-20T16:09:44.001798Z"
    }
   },
   "outputs": [],
   "source": [
    "data_numeric_only = data.drop(columns=non_numeric_columns, axis=1)\n",
    "data_numeric_only.columns\n",
    "\n"
   ]
  },
  {
   "cell_type": "markdown",
   "metadata": {
    "editable": false
   },
   "source": [
    "## **Range values of numeric data columns**\n",
    "\n",
    "Needed for later"
   ]
  },
  {
   "cell_type": "code",
   "execution_count": null,
   "metadata": {
    "editable": false,
    "execution": {
     "iopub.execute_input": "2024-05-20T16:09:44.020103Z",
     "iopub.status.busy": "2024-05-20T16:09:44.019738Z",
     "iopub.status.idle": "2024-05-20T16:09:44.039697Z",
     "shell.execute_reply": "2024-05-20T16:09:44.038169Z",
     "shell.execute_reply.started": "2024-05-20T16:09:44.020060Z"
    }
   },
   "outputs": [],
   "source": [
    "#data_ranges = data_numeric_only.max() - data_numeric_only.min()\n",
    "\n",
    "\n",
    "data_numeric_only.max()\n",
    "data_numeric_only.min()\n",
    "\n",
    "data_ranges = {}\n",
    "\n",
    "for col in data_numeric_only:\n",
    "    data_ranges[col] = {'max': data_numeric_only[col].max(), 'min': data_numeric_only[col].min()}\n",
    "    \n",
    "data_ranges\n",
    "\n"
   ]
  },
  {
   "cell_type": "markdown",
   "metadata": {
    "editable": false
   },
   "source": [
    "## **Correlations of numeric values with target attribute**"
   ]
  },
  {
   "cell_type": "code",
   "execution_count": null,
   "metadata": {
    "editable": false,
    "execution": {
     "iopub.execute_input": "2024-05-20T16:09:44.043615Z",
     "iopub.status.busy": "2024-05-20T16:09:44.043088Z",
     "iopub.status.idle": "2024-05-20T16:09:44.069235Z",
     "shell.execute_reply": "2024-05-20T16:09:44.067891Z",
     "shell.execute_reply.started": "2024-05-20T16:09:44.043570Z"
    }
   },
   "outputs": [],
   "source": [
    "correlations = data_numeric_only.drop(columns=['G3']).corrwith(data_numeric_only['G3'])\n",
    "correlations\n"
   ]
  },
  {
   "cell_type": "markdown",
   "metadata": {
    "editable": false
   },
   "source": [
    "### Show top k features with highest correlation with target attribute (G3)\n",
    "\n",
    "Let's chose `k = 6`\n",
    "\n",
    "therefore 6 largest correlations"
   ]
  },
  {
   "cell_type": "code",
   "execution_count": null,
   "metadata": {
    "editable": false,
    "execution": {
     "iopub.execute_input": "2024-05-20T16:09:44.071413Z",
     "iopub.status.busy": "2024-05-20T16:09:44.071001Z",
     "iopub.status.idle": "2024-05-20T16:09:44.093467Z",
     "shell.execute_reply": "2024-05-20T16:09:44.092121Z",
     "shell.execute_reply.started": "2024-05-20T16:09:44.071369Z"
    },
    "papermill": {
     "duration": 0.050833,
     "end_time": "2024-05-10T15:50:35.906293",
     "exception": false,
     "start_time": "2024-05-10T15:50:35.855460",
     "status": "completed"
    },
    "tags": []
   },
   "outputs": [],
   "source": [
    "# Select top 6 features with highest correlation with G3\n",
    "# G3 is excluded from the correlation calculation\n",
    "correlations = data_numeric_only.drop(columns=['G3']).corrwith(data_numeric_only['G3'])\n",
    "\n",
    "# Select top-k features (excluding G3) with highest absolute correlation coefficients\n",
    "top_k_features = correlations.abs().nlargest(6)\n",
    "print(top_k_features)"
   ]
  },
  {
   "cell_type": "markdown",
   "metadata": {
    "editable": false
   },
   "source": [
    "### Plot Scatter plots of the 6 attributes against target variable"
   ]
  },
  {
   "cell_type": "code",
   "execution_count": null,
   "metadata": {
    "editable": false,
    "execution": {
     "iopub.execute_input": "2024-05-20T16:09:44.099588Z",
     "iopub.status.busy": "2024-05-20T16:09:44.098918Z",
     "iopub.status.idle": "2024-05-20T16:09:45.934437Z",
     "shell.execute_reply": "2024-05-20T16:09:45.933301Z",
     "shell.execute_reply.started": "2024-05-20T16:09:44.099553Z"
    },
    "papermill": {
     "duration": 2.133105,
     "end_time": "2024-05-10T15:50:38.049758",
     "exception": false,
     "start_time": "2024-05-10T15:50:35.916653",
     "status": "completed"
    },
    "tags": []
   },
   "outputs": [],
   "source": [
    "# plot the scatter plot graphs now\n",
    "\n",
    "plt.figure(figsize=(12, 18))\n",
    "\n",
    "\n",
    "\n",
    "# First subplot for feature1\n",
    "plt.subplot(3, 2, 1)  # 3 rows, 2 columns, subplot index 1\n",
    "plt.scatter(x=data['G2'], y=data['G3'], color='skyblue')\n",
    "plt.title('G2')\n",
    "plt.xlabel('G2')\n",
    "plt.ylabel('G3')\n",
    "\n",
    "# Second subplot for feature2\n",
    "plt.subplot(3, 2, 2)  # 3 rows, 2 columns, subplot index 2\n",
    "plt.scatter(x=data['G1'], y=data['G3'], color='skyblue')\n",
    "plt.title('G1')\n",
    "plt.xlabel('G1')\n",
    "plt.ylabel('G3')\n",
    "\n",
    "# Third subplot for feature3\n",
    "plt.subplot(3, 2, 3)  # 3 rows, 2 columns, subplot index 3\n",
    "plt.scatter(x=data['failures'], y=data['G3'], color='skyblue')\n",
    "plt.title('failures')\n",
    "plt.xlabel('failures')\n",
    "plt.ylabel('G3')\n",
    "\n",
    "# Fourth subplot for feature4\n",
    "plt.subplot(3, 2, 4)  # 3 rows, 2 columns, subplot index 4\n",
    "plt.scatter(x=data['Medu'], y=data['G3'], color='skyblue')\n",
    "plt.title('Medu')\n",
    "plt.xlabel('Medu')\n",
    "plt.ylabel('G3')\n",
    "\n",
    "# Fifth subplot for feature5\n",
    "plt.subplot(3, 2, 5)  # 3 rows, 2 columns, subplot index 5\n",
    "plt.scatter(x=data['higher'], y=data['G3'], color='skyblue')\n",
    "plt.title('higher')\n",
    "plt.xlabel('higher')\n",
    "plt.ylabel('G3')\n",
    "\n",
    "# Sixth subplot for feature6\n",
    "plt.subplot(3, 2, 6)  # 3 rows, 2 columns, subplot index 6\n",
    "plt.scatter(x=data['age'], y=data['G3'], color='skyblue')\n",
    "plt.title('age')\n",
    "plt.xlabel('age')\n",
    "plt.ylabel('G3')\n",
    "\n",
    "plt.tight_layout()  # Adjust layout to prevent overlapping\n",
    "plt.show()\n"
   ]
  },
  {
   "cell_type": "markdown",
   "metadata": {
    "editable": false
   },
   "source": []
  },
  {
   "cell_type": "markdown",
   "metadata": {
    "editable": false
   },
   "source": [
    "### Select attributes with lowest correlation to target variable\n",
    "\n",
    "**And drop them from the data frame**"
   ]
  },
  {
   "cell_type": "code",
   "execution_count": null,
   "metadata": {
    "editable": false,
    "execution": {
     "iopub.execute_input": "2024-05-20T16:09:45.936458Z",
     "iopub.status.busy": "2024-05-20T16:09:45.936057Z",
     "iopub.status.idle": "2024-05-20T16:09:45.945958Z",
     "shell.execute_reply": "2024-05-20T16:09:45.944501Z",
     "shell.execute_reply.started": "2024-05-20T16:09:45.936421Z"
    },
    "papermill": {
     "duration": 0.013313,
     "end_time": "2024-05-10T15:50:38.075960",
     "exception": false,
     "start_time": "2024-05-10T15:50:38.062647",
     "status": "completed"
    },
    "tags": []
   },
   "outputs": [],
   "source": [
    "lowest_k_features = correlations.abs().nsmallest(15)\n",
    "\n",
    "print(lowest_k_features)"
   ]
  },
  {
   "cell_type": "markdown",
   "metadata": {
    "editable": false
   },
   "source": [
    "**Now Drop those columns**"
   ]
  },
  {
   "cell_type": "code",
   "execution_count": null,
   "metadata": {
    "editable": false,
    "execution": {
     "iopub.execute_input": "2024-05-20T16:09:45.947759Z",
     "iopub.status.busy": "2024-05-20T16:09:45.947373Z",
     "iopub.status.idle": "2024-05-20T16:09:45.963091Z",
     "shell.execute_reply": "2024-05-20T16:09:45.961914Z",
     "shell.execute_reply.started": "2024-05-20T16:09:45.947727Z"
    }
   },
   "outputs": [],
   "source": [
    "data = data.drop(columns=['freetime', 'absences', 'famrel',\n",
    "                             'Walc', 'Dalc', 'health',]).copy()\n",
    "\n",
    "# new_data.to_csv('data_before_scaling.csv', index=False)\n",
    "# new_data"
   ]
  },
  {
   "cell_type": "code",
   "execution_count": null,
   "metadata": {
    "editable": false,
    "execution": {
     "iopub.execute_input": "2024-05-20T16:09:45.965123Z",
     "iopub.status.busy": "2024-05-20T16:09:45.964662Z",
     "iopub.status.idle": "2024-05-20T16:09:45.985545Z",
     "shell.execute_reply": "2024-05-20T16:09:45.983997Z",
     "shell.execute_reply.started": "2024-05-20T16:09:45.965081Z"
    }
   },
   "outputs": [],
   "source": [
    "data.columns\n",
    "data.info()"
   ]
  },
  {
   "cell_type": "markdown",
   "metadata": {
    "editable": false
   },
   "source": []
  },
  {
   "cell_type": "markdown",
   "metadata": {
    "editable": false
   },
   "source": [
    "## Split Data into X and y features, and then scale it.\n",
    "\n",
    "### Split data to `X` and `y`"
   ]
  },
  {
   "cell_type": "code",
   "execution_count": null,
   "metadata": {
    "editable": false,
    "execution": {
     "iopub.execute_input": "2024-05-20T16:09:45.987670Z",
     "iopub.status.busy": "2024-05-20T16:09:45.987194Z",
     "iopub.status.idle": "2024-05-20T16:09:46.017611Z",
     "shell.execute_reply": "2024-05-20T16:09:46.016120Z",
     "shell.execute_reply.started": "2024-05-20T16:09:45.987621Z"
    }
   },
   "outputs": [],
   "source": [
    "y = data['G3'].copy()\n",
    "X = data.drop('G3', axis=1).copy()\n",
    "X"
   ]
  },
  {
   "cell_type": "code",
   "execution_count": null,
   "metadata": {
    "editable": false,
    "execution": {
     "iopub.execute_input": "2024-05-20T16:09:46.020216Z",
     "iopub.status.busy": "2024-05-20T16:09:46.019553Z",
     "iopub.status.idle": "2024-05-20T16:09:46.031932Z",
     "shell.execute_reply": "2024-05-20T16:09:46.030443Z",
     "shell.execute_reply.started": "2024-05-20T16:09:46.020183Z"
    }
   },
   "outputs": [],
   "source": [
    "y"
   ]
  },
  {
   "cell_type": "code",
   "execution_count": null,
   "metadata": {
    "editable": false,
    "execution": {
     "iopub.execute_input": "2024-05-20T16:09:46.034018Z",
     "iopub.status.busy": "2024-05-20T16:09:46.033567Z",
     "iopub.status.idle": "2024-05-20T16:09:46.733545Z",
     "shell.execute_reply": "2024-05-20T16:09:46.732346Z",
     "shell.execute_reply.started": "2024-05-20T16:09:46.033977Z"
    }
   },
   "outputs": [],
   "source": [
    "plt.figure(figsize=(10, 6))\n",
    "sns.histplot(y, kde=True, color='red')\n",
    "plt.title('grade distribution')\n",
    "plt.xlabel('G3')\n",
    "plt.ylabel('frequency')"
   ]
  },
  {
   "cell_type": "markdown",
   "metadata": {
    "editable": false
   },
   "source": [
    "## Scale the data \n",
    "Scaling the data gives it each column in `X` a mean of 0 and standard deviation of 1\n",
    "\n",
    "we'll use Scaler from sklearn"
   ]
  },
  {
   "cell_type": "code",
   "execution_count": null,
   "metadata": {
    "editable": false,
    "execution": {
     "iopub.execute_input": "2024-05-20T16:09:46.735429Z",
     "iopub.status.busy": "2024-05-20T16:09:46.735101Z",
     "iopub.status.idle": "2024-05-20T16:09:46.745619Z",
     "shell.execute_reply": "2024-05-20T16:09:46.744460Z",
     "shell.execute_reply.started": "2024-05-20T16:09:46.735400Z"
    }
   },
   "outputs": [],
   "source": [
    "print(f\" x mean: {X.mean()}, x standard deviation: {X.std()}\")\n"
   ]
  },
  {
   "cell_type": "code",
   "execution_count": null,
   "metadata": {
    "editable": false
   },
   "outputs": [],
   "source": []
  },
  {
   "cell_type": "code",
   "execution_count": null,
   "metadata": {
    "editable": false,
    "execution": {
     "iopub.execute_input": "2024-05-20T16:09:46.747981Z",
     "iopub.status.busy": "2024-05-20T16:09:46.747479Z",
     "iopub.status.idle": "2024-05-20T16:09:46.755018Z",
     "shell.execute_reply": "2024-05-20T16:09:46.753882Z",
     "shell.execute_reply.started": "2024-05-20T16:09:46.747938Z"
    }
   },
   "outputs": [],
   "source": [
    "print(f\" y mean: {y.mean()}, y standard deviation: {y.std()}\")"
   ]
  },
  {
   "cell_type": "code",
   "execution_count": null,
   "metadata": {
    "editable": false,
    "execution": {
     "iopub.execute_input": "2024-05-20T16:09:46.757396Z",
     "iopub.status.busy": "2024-05-20T16:09:46.756900Z",
     "iopub.status.idle": "2024-05-20T16:09:46.772395Z",
     "shell.execute_reply": "2024-05-20T16:09:46.770545Z",
     "shell.execute_reply.started": "2024-05-20T16:09:46.757355Z"
    }
   },
   "outputs": [],
   "source": [
    "X.shape"
   ]
  },
  {
   "cell_type": "code",
   "execution_count": null,
   "metadata": {
    "editable": false,
    "execution": {
     "iopub.execute_input": "2024-05-20T16:09:46.774963Z",
     "iopub.status.busy": "2024-05-20T16:09:46.774149Z",
     "iopub.status.idle": "2024-05-20T16:09:46.789396Z",
     "shell.execute_reply": "2024-05-20T16:09:46.788072Z",
     "shell.execute_reply.started": "2024-05-20T16:09:46.774919Z"
    }
   },
   "outputs": [],
   "source": [
    "y.shape"
   ]
  },
  {
   "cell_type": "code",
   "execution_count": null,
   "metadata": {
    "editable": false,
    "execution": {
     "iopub.execute_input": "2024-05-20T16:09:46.791618Z",
     "iopub.status.busy": "2024-05-20T16:09:46.791205Z",
     "iopub.status.idle": "2024-05-20T16:09:46.814769Z",
     "shell.execute_reply": "2024-05-20T16:09:46.813470Z",
     "shell.execute_reply.started": "2024-05-20T16:09:46.791585Z"
    }
   },
   "outputs": [],
   "source": [
    "scaler = preprocessing.StandardScaler()\n",
    "X = scaler.fit_transform(X)\n",
    "\n",
    "X = (X - X.mean()) / X.std()\n",
    "y = (y - y.mean()) / y.std()\n",
    "\n",
    "# original_y_mean = y.mean()\n",
    "# original_y_std = y.std()"
   ]
  },
  {
   "cell_type": "code",
   "execution_count": null,
   "metadata": {
    "editable": false,
    "execution": {
     "iopub.execute_input": "2024-05-20T16:09:46.816689Z",
     "iopub.status.busy": "2024-05-20T16:09:46.816270Z",
     "iopub.status.idle": "2024-05-20T16:09:46.828318Z",
     "shell.execute_reply": "2024-05-20T16:09:46.826953Z",
     "shell.execute_reply.started": "2024-05-20T16:09:46.816652Z"
    }
   },
   "outputs": [],
   "source": [
    "# scaler = preprocessing.StandardScaler()\n",
    "# X = scaler.fit_transform(X)\n",
    "\n",
    "# # Check if standard deviation of y is zero to avoid division by zero\n",
    "# if np.std(y) == 0:\n",
    "#     raise ValueError(\"The standard deviation of y is zero, standardization is not possible.\")\n",
    "\n",
    "# # Standardize y manually\n",
    "# y = (y - np.mean(y)) / np.std(y)\n",
    "\n",
    "# original_y_mean = np.mean(y)\n",
    "# original_y_std = np.std(y)"
   ]
  },
  {
   "cell_type": "code",
   "execution_count": null,
   "metadata": {
    "editable": false,
    "execution": {
     "iopub.execute_input": "2024-05-20T16:09:46.830257Z",
     "iopub.status.busy": "2024-05-20T16:09:46.829853Z",
     "iopub.status.idle": "2024-05-20T16:09:46.844509Z",
     "shell.execute_reply": "2024-05-20T16:09:46.842866Z",
     "shell.execute_reply.started": "2024-05-20T16:09:46.830226Z"
    }
   },
   "outputs": [],
   "source": [
    "X.shape"
   ]
  },
  {
   "cell_type": "code",
   "execution_count": null,
   "metadata": {
    "editable": false,
    "execution": {
     "iopub.execute_input": "2024-05-20T16:09:46.846516Z",
     "iopub.status.busy": "2024-05-20T16:09:46.846145Z",
     "iopub.status.idle": "2024-05-20T16:09:46.857665Z",
     "shell.execute_reply": "2024-05-20T16:09:46.856233Z",
     "shell.execute_reply.started": "2024-05-20T16:09:46.846475Z"
    }
   },
   "outputs": [],
   "source": [
    "y.shape"
   ]
  },
  {
   "cell_type": "markdown",
   "metadata": {
    "editable": false
   },
   "source": [
    "## **Split Data into training and testing, with 80%**"
   ]
  },
  {
   "cell_type": "code",
   "execution_count": null,
   "metadata": {
    "editable": false,
    "execution": {
     "iopub.execute_input": "2024-05-20T16:09:46.859606Z",
     "iopub.status.busy": "2024-05-20T16:09:46.859139Z",
     "iopub.status.idle": "2024-05-20T16:09:46.874076Z",
     "shell.execute_reply": "2024-05-20T16:09:46.872801Z",
     "shell.execute_reply.started": "2024-05-20T16:09:46.859561Z"
    }
   },
   "outputs": [],
   "source": [
    "X_train, X_test, y_train, y_test = train_test_split(X, y, train_size=0.8, random_state=41, shuffle=True)"
   ]
  },
  {
   "cell_type": "code",
   "execution_count": null,
   "metadata": {
    "editable": false,
    "execution": {
     "iopub.execute_input": "2024-05-20T16:09:46.876111Z",
     "iopub.status.busy": "2024-05-20T16:09:46.875696Z",
     "iopub.status.idle": "2024-05-20T16:09:46.889122Z",
     "shell.execute_reply": "2024-05-20T16:09:46.887661Z",
     "shell.execute_reply.started": "2024-05-20T16:09:46.876070Z"
    }
   },
   "outputs": [],
   "source": [
    "X_train.shape\n",
    "\n",
    "\n",
    "# X_train_arr = X_train.values\n",
    "# type(X_train_arr)"
   ]
  },
  {
   "cell_type": "code",
   "execution_count": null,
   "metadata": {
    "editable": false,
    "execution": {
     "iopub.execute_input": "2024-05-20T16:09:46.891509Z",
     "iopub.status.busy": "2024-05-20T16:09:46.891136Z",
     "iopub.status.idle": "2024-05-20T16:09:46.903371Z",
     "shell.execute_reply": "2024-05-20T16:09:46.902089Z",
     "shell.execute_reply.started": "2024-05-20T16:09:46.891477Z"
    }
   },
   "outputs": [],
   "source": [
    "y_train.shape"
   ]
  },
  {
   "cell_type": "markdown",
   "metadata": {
    "editable": false
   },
   "source": [
    "## **Training PyTorch Model**\n",
    "\n",
    "Our data has 24 columns, so our model's first layer would have 24 input nodes.\n",
    "\n",
    "Let's have 2 hidden layers with 36 nodes, 1 more hidden layer with 12 nodes, and 1 output layer."
   ]
  },
  {
   "cell_type": "code",
   "execution_count": null,
   "metadata": {
    "editable": false,
    "execution": {
     "iopub.execute_input": "2024-05-20T16:09:46.905767Z",
     "iopub.status.busy": "2024-05-20T16:09:46.905252Z",
     "iopub.status.idle": "2024-05-20T16:09:46.916848Z",
     "shell.execute_reply": "2024-05-20T16:09:46.915636Z",
     "shell.execute_reply.started": "2024-05-20T16:09:46.905723Z"
    }
   },
   "outputs": [],
   "source": [
    "class NeuralNetwork(nn.Module):\n",
    "    def __init__(self):\n",
    "        super(NeuralNetwork, self).__init__()\n",
    "        self.layer1 = nn.Linear(24, 24)\n",
    "        # 17 inputs and 17 outputs\n",
    "        self.layer2 = nn.Linear(24, 36)\n",
    "        #  17 inputs and 8 outputs\n",
    "        self.layer3 = nn.Linear(36, 24)\n",
    "        self.layer4 = nn.Linear(24, 12)\n",
    "        self.output = nn.Linear(12, 1)\n",
    "        \n",
    "    # define feed-forward function\n",
    "    # it takes a feature vector\n",
    "    def forward(self, x):\n",
    "        # we use F from the functional package\n",
    "        # we use it to pass relu function to the layers\n",
    "        # now hidden layers have RELU activation function\n",
    "        x = F.relu(self.layer1(x))\n",
    "        x = F.relu(self.layer2(x))\n",
    "        x = F.relu(self.layer3(x))\n",
    "        x = F.relu(self.layer4(x))\n",
    "#         x = self.dropout(x)\n",
    "        x = self.output(x)\n",
    "        return x"
   ]
  },
  {
   "cell_type": "markdown",
   "metadata": {
    "editable": false
   },
   "source": [
    "### Tweaking a little bit:\n",
    "\n",
    "- initialize custom weights\n",
    "- gradient clipping\n",
    "\n",
    "gradient clipping will be done later, during training stage."
   ]
  },
  {
   "cell_type": "code",
   "execution_count": null,
   "metadata": {
    "editable": false,
    "execution": {
     "iopub.execute_input": "2024-05-20T16:09:46.918991Z",
     "iopub.status.busy": "2024-05-20T16:09:46.918504Z",
     "iopub.status.idle": "2024-05-20T16:09:46.931727Z",
     "shell.execute_reply": "2024-05-20T16:09:46.930466Z",
     "shell.execute_reply.started": "2024-05-20T16:09:46.918946Z"
    }
   },
   "outputs": [],
   "source": [
    "# initialize weights\n",
    "# def init_weights(m):\n",
    "#     if type(m) == nn.Linear:\n",
    "#         torch.nn.init.xavier_uniform_(m.weight)\n",
    "#         m.bias.data.fill_(0.01)\n",
    "\n",
    "# neuralNet.apply(init_weights)\n"
   ]
  },
  {
   "cell_type": "markdown",
   "metadata": {
    "editable": false
   },
   "source": [
    "## Let's visualize our model:\n",
    "let's see the parameter sizes of each layer"
   ]
  },
  {
   "cell_type": "code",
   "execution_count": null,
   "metadata": {
    "editable": false,
    "execution": {
     "iopub.execute_input": "2024-05-20T16:09:46.933728Z",
     "iopub.status.busy": "2024-05-20T16:09:46.933357Z",
     "iopub.status.idle": "2024-05-20T16:09:46.981307Z",
     "shell.execute_reply": "2024-05-20T16:09:46.980055Z",
     "shell.execute_reply.started": "2024-05-20T16:09:46.933695Z"
    }
   },
   "outputs": [],
   "source": [
    "neuralNet = NeuralNetwork()\n",
    "\n",
    "param_list = list(neuralNet.parameters())\n",
    "\n",
    "for i in range(len(param_list)):\n",
    "    print(param_list[i].shape)"
   ]
  },
  {
   "cell_type": "code",
   "execution_count": null,
   "metadata": {
    "editable": false
   },
   "outputs": [],
   "source": []
  },
  {
   "cell_type": "markdown",
   "metadata": {
    "editable": false
   },
   "source": [
    "## **Convert the X and y datas into Tensors**"
   ]
  },
  {
   "cell_type": "code",
   "execution_count": null,
   "metadata": {
    "editable": false,
    "execution": {
     "iopub.execute_input": "2024-05-20T16:09:46.983007Z",
     "iopub.status.busy": "2024-05-20T16:09:46.982678Z",
     "iopub.status.idle": "2024-05-20T16:09:47.010611Z",
     "shell.execute_reply": "2024-05-20T16:09:47.009252Z",
     "shell.execute_reply.started": "2024-05-20T16:09:46.982979Z"
    }
   },
   "outputs": [],
   "source": [
    "# X_train_array = X_train.values\n",
    "# X_test_array = X_test.values\n",
    "\n",
    "# Convert NumPy array to PyTorch tensor\n",
    "X_train_tensor = torch.tensor(X_train, dtype=torch.float32)\n",
    "X_test_tensor = torch.tensor(X_test, dtype=torch.float32)\n",
    "\n",
    "# Convert y_train and y_test to NumPy arrays and then to PyTorch tensors\n",
    "y_train_array = np.array(y_train)\n",
    "y_test_array = np.array(y_test)\n",
    "\n",
    "y_train_tensor = torch.tensor(y_train_array, dtype=torch.float32).reshape(-1, 1)\n",
    "y_test_tensor = torch.tensor(y_test_array, dtype=torch.float32).reshape(-1, 1)"
   ]
  },
  {
   "cell_type": "code",
   "execution_count": null,
   "metadata": {
    "editable": false,
    "execution": {
     "iopub.execute_input": "2024-05-20T16:09:47.012280Z",
     "iopub.status.busy": "2024-05-20T16:09:47.011902Z",
     "iopub.status.idle": "2024-05-20T16:09:47.090939Z",
     "shell.execute_reply": "2024-05-20T16:09:47.089860Z",
     "shell.execute_reply.started": "2024-05-20T16:09:47.012247Z"
    }
   },
   "outputs": [],
   "source": [
    "X_train_tensor"
   ]
  },
  {
   "cell_type": "code",
   "execution_count": null,
   "metadata": {
    "editable": false,
    "execution": {
     "iopub.execute_input": "2024-05-20T16:09:47.092834Z",
     "iopub.status.busy": "2024-05-20T16:09:47.092407Z",
     "iopub.status.idle": "2024-05-20T16:09:47.110879Z",
     "shell.execute_reply": "2024-05-20T16:09:47.109593Z",
     "shell.execute_reply.started": "2024-05-20T16:09:47.092801Z"
    }
   },
   "outputs": [],
   "source": [
    "y_train_tensor"
   ]
  },
  {
   "cell_type": "code",
   "execution_count": null,
   "metadata": {
    "editable": false,
    "execution": {
     "iopub.execute_input": "2024-05-20T16:09:47.113029Z",
     "iopub.status.busy": "2024-05-20T16:09:47.112588Z",
     "iopub.status.idle": "2024-05-20T16:09:47.123681Z",
     "shell.execute_reply": "2024-05-20T16:09:47.122379Z",
     "shell.execute_reply.started": "2024-05-20T16:09:47.112985Z"
    }
   },
   "outputs": [],
   "source": [
    "X_test_tensor"
   ]
  },
  {
   "cell_type": "code",
   "execution_count": null,
   "metadata": {
    "editable": false,
    "execution": {
     "iopub.execute_input": "2024-05-20T16:09:47.125806Z",
     "iopub.status.busy": "2024-05-20T16:09:47.125431Z",
     "iopub.status.idle": "2024-05-20T16:09:47.141185Z",
     "shell.execute_reply": "2024-05-20T16:09:47.139663Z",
     "shell.execute_reply.started": "2024-05-20T16:09:47.125775Z"
    }
   },
   "outputs": [],
   "source": [
    "y_test_tensor"
   ]
  },
  {
   "cell_type": "markdown",
   "metadata": {
    "editable": false
   },
   "source": [
    "## Gradient Descent (Optimizer) and Loss (criterion) \n",
    "We use the `Adam` Optimizer with `MSE` loss function and `0.1` learning rate, and additional weight-decay parameter"
   ]
  },
  {
   "cell_type": "code",
   "execution_count": null,
   "metadata": {
    "editable": false,
    "execution": {
     "iopub.execute_input": "2024-05-20T16:09:47.143217Z",
     "iopub.status.busy": "2024-05-20T16:09:47.142805Z",
     "iopub.status.idle": "2024-05-20T16:09:50.113661Z",
     "shell.execute_reply": "2024-05-20T16:09:50.112465Z",
     "shell.execute_reply.started": "2024-05-20T16:09:47.143170Z"
    }
   },
   "outputs": [],
   "source": [
    "optimizer = torch.optim.Adam(neuralNet.parameters(), lr=0.001, weight_decay=1e-5)\n",
    "criterion = nn.MSELoss()"
   ]
  },
  {
   "cell_type": "markdown",
   "metadata": {
    "editable": false
   },
   "source": [
    "## Training the model within 100 epochs"
   ]
  },
  {
   "cell_type": "markdown",
   "metadata": {
    "editable": false
   },
   "source": [
    "### **First let's define code for training one epoch**"
   ]
  },
  {
   "cell_type": "code",
   "execution_count": null,
   "metadata": {
    "editable": false,
    "execution": {
     "iopub.execute_input": "2024-05-20T16:09:50.124759Z",
     "iopub.status.busy": "2024-05-20T16:09:50.124186Z",
     "iopub.status.idle": "2024-05-20T16:09:50.134558Z",
     "shell.execute_reply": "2024-05-20T16:09:50.133367Z",
     "shell.execute_reply.started": "2024-05-20T16:09:50.124727Z"
    }
   },
   "outputs": [],
   "source": [
    "batch_size = 32  # Example batch size, adjust as needed\n",
    "\n",
    "# Create a DataLoader instance with the specified batch size\n",
    "train_dataset = TensorDataset(X_train_tensor, y_train_tensor)\n",
    "train_dataloader = DataLoader(train_dataset, batch_size=batch_size, shuffle=True)\n",
    "\n",
    "\n",
    "test_dataset = TensorDataset(X_test_tensor, y_test_tensor)\n",
    "test_dataloader = DataLoader(test_dataset, batch_size=batch_size, shuffle=True)\n",
    "\n",
    "#X_test_tensor.shape\n",
    "y_test_tensor.shape\n"
   ]
  },
  {
   "cell_type": "markdown",
   "metadata": {
    "editable": false
   },
   "source": [
    "### **Train Loop**"
   ]
  },
  {
   "cell_type": "code",
   "execution_count": null,
   "metadata": {
    "editable": false,
    "execution": {
     "iopub.execute_input": "2024-05-20T16:09:50.136564Z",
     "iopub.status.busy": "2024-05-20T16:09:50.136130Z",
     "iopub.status.idle": "2024-05-20T16:09:50.151862Z",
     "shell.execute_reply": "2024-05-20T16:09:50.150457Z",
     "shell.execute_reply.started": "2024-05-20T16:09:50.136530Z"
    }
   },
   "outputs": [],
   "source": [
    "# def train_loop(dataloader, model, loss_function, optimizer):\n",
    "#     size = len(dataloader.dataset)\n",
    "    \n",
    "#     model.train()\n",
    "    \n",
    "#     for batch, (X, y) in enumerate(dataloader):\n",
    "#         # compute prediction and loss\n",
    "#         pred = model(X)\n",
    "#         loss = loss_function(pred, y)\n",
    "        \n",
    "#         # backpropagation\n",
    "#         optimizer.zero_grad()\n",
    "#         loss.backward()\n",
    "        \n",
    "#         torch.nn.utils.clip_grad_norm_(model.parameters(), max_norm=1.0)\n",
    "#         optimizer.step()\n",
    "#         # make the gradient zero to prevent buildup\n",
    "        \n",
    "        \n",
    "#         if batch % 100 == 0:\n",
    "#             loss, current = loss.item(), batch * batch_size + len(X)\n",
    "#             print(f\"loss: {loss:>7f} [{current:>5d}/{size:5d}]\")\n",
    "training_accuracies = []\n",
    "def train_loop(current_index, dataloader, model, loss_function, optimizer):\n",
    "    size = len(dataloader.dataset)\n",
    "    num_batches = len(dataloader)\n",
    "    model.train()\n",
    "    \n",
    "    correct = 0\n",
    "    total_predictions = 0\n",
    "    total_loss = 0\n",
    "    \n",
    "    for batch, (X, y) in enumerate(dataloader):\n",
    "        # compute prediction and loss\n",
    "        pred = model(X)\n",
    "        loss = loss_function(pred, y)\n",
    "        \n",
    "        # backpropagation/\n",
    "        optimizer.zero_grad()\n",
    "        loss.backward()\n",
    "        \n",
    "        # Gradient clipping\n",
    "        torch.nn.utils.clip_grad_norm_(model.parameters(), max_norm=1.0)\n",
    "        optimizer.step()\n",
    "        \n",
    "        # Accumulate loss\n",
    "        total_loss += loss.item()\n",
    "        \n",
    "        # Calculate the number of correct predictions\n",
    "        num_matches = torch.sum(torch.round(pred) == torch.round(y)).item()\n",
    "        correct += num_matches\n",
    "        total_predictions += len(y)\n",
    "        \n",
    "        if batch % 100 == 0:\n",
    "            current = batch * len(X)\n",
    "            if current_index % 10 == 0:\n",
    "                print(f\"loss: {loss.item():>7f} [{current:>5d}/{size:>5d}]\")\n",
    "    \n",
    "    # Calculate average loss and accuracy\n",
    "    average_loss = total_loss / num_batches\n",
    "    accuracy_percentage = (correct / total_predictions) * 100\n",
    "    training_accuracies.append(accuracy_percentage)\n",
    "    \n",
    "    if current_index % 10 == 0:\n",
    "        print(f\"Training Error: \\n Accuracy: {accuracy_percentage:>0.1f}%, Avg loss: {average_loss:>8f} \\n\")\n",
    "\n",
    "# Example of calling the train_loop function\n",
    "# train_loop(train_dataloader, model, loss_function, optimizer)\n"
   ]
  },
  {
   "cell_type": "markdown",
   "metadata": {
    "editable": false
   },
   "source": [
    "## **Test Loop**"
   ]
  },
  {
   "cell_type": "code",
   "execution_count": null,
   "metadata": {
    "editable": false,
    "execution": {
     "iopub.execute_input": "2024-05-20T16:09:50.153498Z",
     "iopub.status.busy": "2024-05-20T16:09:50.153142Z",
     "iopub.status.idle": "2024-05-20T16:09:50.173911Z",
     "shell.execute_reply": "2024-05-20T16:09:50.172542Z",
     "shell.execute_reply.started": "2024-05-20T16:09:50.153468Z"
    }
   },
   "outputs": [],
   "source": [
    "losses = []\n",
    "test_accuracies = []\n",
    "def test_loop(current_index, dataloader, model, loss_function):\n",
    "    model.eval()\n",
    "    size = len(dataloader.dataset)\n",
    "    num_batches = len(dataloader)\n",
    "    test_loss, correct, total_predictions = 0, 0, 0\n",
    "    \n",
    "    with torch.no_grad():\n",
    "        for X, y in dataloader:\n",
    "            pred = model(X)\n",
    "            # Calculate MSE loss\n",
    "            mse_loss = ((pred - y)**2).mean().item()\n",
    "            #print(f\"pred: {pred}\")\n",
    "            #print(f\"pred: {y}\")\n",
    "            \n",
    "            # Count the number of matching values within the batch\n",
    "            num_matches = torch.sum(torch.round(pred) == torch.round(y)).item()\n",
    "            \n",
    "            if current_index % 10 == 0:\n",
    "                print(f\"Number of matching values in this batch: {num_matches} out of {len(y)}\")\n",
    "            test_loss += mse_loss\n",
    "\n",
    "            # Accumulate the number of correct predictions and total predictions\n",
    "            correct += num_matches\n",
    "            total_predictions += len(y)\n",
    "\n",
    "    # Calculate average MSE loss\n",
    "    test_loss /= len(dataloader.dataset)\n",
    "    \n",
    "    losses.append(test_loss)\n",
    "    \n",
    "    # Calculate accuracy percentage\n",
    "    accuracy_percentage = (correct / total_predictions) * 100\n",
    "    test_accuracies.append(accuracy_percentage)\n",
    "    \n",
    "    if current_index % 10 == 0:\n",
    "        print(f\"Test Error: \\n Accuracy: {accuracy_percentage:>0.1f}%, Avg loss: {test_loss:>8f} \\n\")\n",
    "    \n",
    "    return pred"
   ]
  },
  {
   "cell_type": "markdown",
   "metadata": {
    "editable": false
   },
   "source": [
    "## now train all epochs"
   ]
  },
  {
   "cell_type": "code",
   "execution_count": null,
   "metadata": {
    "editable": false,
    "execution": {
     "iopub.execute_input": "2024-05-20T16:09:50.175937Z",
     "iopub.status.busy": "2024-05-20T16:09:50.175541Z",
     "iopub.status.idle": "2024-05-20T16:09:50.192543Z",
     "shell.execute_reply": "2024-05-20T16:09:50.191180Z",
     "shell.execute_reply.started": "2024-05-20T16:09:50.175904Z"
    }
   },
   "outputs": [],
   "source": [
    "print(losses)"
   ]
  },
  {
   "cell_type": "code",
   "execution_count": null,
   "metadata": {
    "editable": false,
    "execution": {
     "iopub.execute_input": "2024-05-20T16:09:50.194658Z",
     "iopub.status.busy": "2024-05-20T16:09:50.194215Z",
     "iopub.status.idle": "2024-05-20T16:09:55.998234Z",
     "shell.execute_reply": "2024-05-20T16:09:55.997105Z",
     "shell.execute_reply.started": "2024-05-20T16:09:50.194615Z"
    }
   },
   "outputs": [],
   "source": [
    "num_epochs = 200\n",
    "predictions = []\n",
    "best_loss = np.inf\n",
    "patience = 5\n",
    "counter = 0\n",
    "\n",
    "\n",
    "for t in range(num_epochs):\n",
    "    if t % 10 == 0:\n",
    "        print(f\"Epoch {t+1} of training \\n-------------------------------\")\n",
    "    train_loop(t, train_dataloader, neuralNet, criterion, optimizer)\n",
    "    if counter >= patience:\n",
    "        continue\n",
    "    prediction = test_loop(t, test_dataloader, neuralNet, criterion)\n",
    "    predictions.append(prediction)\n",
    "    \n",
    "    # Check if the test loss has improved\n",
    "    if losses[-1] < best_loss:\n",
    "        best_loss = losses[-1]\n",
    "        counter = 0\n",
    "    else:\n",
    "        counter += 1\n",
    "\n",
    "    \n",
    "    # If test loss hasn't improved for 'patience' epochs, stop testing\n",
    "    if counter >= patience:\n",
    "        # some other\n",
    "        var = 0\n",
    "    else:\n",
    "        var = 10\n",
    "        #print(\"Early stopping!\")"
   ]
  },
  {
   "cell_type": "code",
   "execution_count": null,
   "metadata": {
    "editable": false,
    "execution": {
     "iopub.execute_input": "2024-05-20T16:09:56.000178Z",
     "iopub.status.busy": "2024-05-20T16:09:55.999714Z",
     "iopub.status.idle": "2024-05-20T16:09:56.866778Z",
     "shell.execute_reply": "2024-05-20T16:09:56.865365Z",
     "shell.execute_reply.started": "2024-05-20T16:09:56.000137Z"
    }
   },
   "outputs": [],
   "source": [
    "plt.figure(figsize=(12, 6))\n",
    "\n",
    "# Plot Losses\n",
    "plt.subplot(1, 3, 1) # 1 row, 3 columns, subplot 1\n",
    "plt.plot(losses, label='Loss')\n",
    "plt.xlabel('Iteration')\n",
    "plt.ylabel('Loss')\n",
    "plt.title('Training Loss over Time')\n",
    "plt.legend()\n",
    "\n",
    "# Plot Accuracies\n",
    "plt.subplot(1, 3, 2) # 1 row, 3 columns, subplot 2\n",
    "plt.plot(training_accuracies, label='Training Accuracy', color='orange')\n",
    "plt.xlabel('Iteration')\n",
    "plt.ylabel('Accuracy (%)')\n",
    "plt.title('Training Accuracy over Time')\n",
    "plt.legend()\n",
    "\n",
    "plt.subplot(1, 3, 3) # 1 row, 3 columns, subplot 3\n",
    "plt.plot(test_accuracies, label='Accuracy', color='orange')\n",
    "plt.xlabel('Iteration')\n",
    "plt.ylabel('Accuracy (%)')\n",
    "plt.title('Test Accuracy over Time')\n",
    "plt.legend()\n",
    "\n",
    "\n",
    "plt.tight_layout()\n",
    "plt.show()"
   ]
  },
  {
   "cell_type": "code",
   "execution_count": null,
   "metadata": {
    "editable": false,
    "execution": {
     "iopub.execute_input": "2024-05-20T16:09:56.868557Z",
     "iopub.status.busy": "2024-05-20T16:09:56.868227Z",
     "iopub.status.idle": "2024-05-20T16:09:56.898424Z",
     "shell.execute_reply": "2024-05-20T16:09:56.897156Z",
     "shell.execute_reply.started": "2024-05-20T16:09:56.868529Z"
    }
   },
   "outputs": [],
   "source": [
    "predictions"
   ]
  },
  {
   "cell_type": "code",
   "execution_count": null,
   "metadata": {
    "editable": false,
    "execution": {
     "iopub.execute_input": "2024-05-20T16:09:56.900428Z",
     "iopub.status.busy": "2024-05-20T16:09:56.899964Z",
     "iopub.status.idle": "2024-05-20T16:09:58.988867Z",
     "shell.execute_reply": "2024-05-20T16:09:58.986874Z",
     "shell.execute_reply.started": "2024-05-20T16:09:56.900386Z"
    }
   },
   "outputs": [],
   "source": [
    "plt.figure(figsize=(12, 6))\n",
    "\n",
    "plt.plot(predictions, label='Loss')\n",
    "plt.xlabel('Iteration')\n",
    "plt.ylabel('Loss')\n",
    "plt.title('Training Loss over Time')\n",
    "plt.legend()\n",
    "plt.show()\n"
   ]
  },
  {
   "cell_type": "markdown",
   "metadata": {
    "editable": false
   },
   "source": [
    "### New data"
   ]
  },
  {
   "cell_type": "code",
   "execution_count": null,
   "metadata": {
    "editable": false,
    "execution": {
     "iopub.status.busy": "2024-05-20T16:09:58.990383Z",
     "iopub.status.idle": "2024-05-20T16:09:58.990998Z",
     "shell.execute_reply": "2024-05-20T16:09:58.990723Z",
     "shell.execute_reply.started": "2024-05-20T16:09:58.990696Z"
    }
   },
   "outputs": [],
   "source": [
    "X.mean()"
   ]
  },
  {
   "cell_type": "code",
   "execution_count": null,
   "metadata": {
    "editable": false,
    "execution": {
     "iopub.status.busy": "2024-05-20T16:09:58.993416Z",
     "iopub.status.idle": "2024-05-20T16:09:58.994013Z",
     "shell.execute_reply": "2024-05-20T16:09:58.993753Z",
     "shell.execute_reply.started": "2024-05-20T16:09:58.993728Z"
    }
   },
   "outputs": [],
   "source": [
    "original_mean = X.mean()\n",
    "original_std = X.std()"
   ]
  },
  {
   "cell_type": "code",
   "execution_count": null,
   "metadata": {
    "editable": false,
    "execution": {
     "iopub.status.busy": "2024-05-20T16:09:58.996558Z",
     "iopub.status.idle": "2024-05-20T16:09:58.997205Z",
     "shell.execute_reply": "2024-05-20T16:09:58.996895Z",
     "shell.execute_reply.started": "2024-05-20T16:09:58.996871Z"
    }
   },
   "outputs": [],
   "source": [
    "### unseen data\n",
    "\n",
    "# Mean and standard deviation for each feature\n",
    "x_mean = original_mean\n",
    "x_std = original_std\n",
    "# Number of features\n",
    "num_features = 24\n",
    "\n",
    "# Generate random values for each feature based on normal distribution with given mean and standard deviation\n",
    "unseen_data = {}\n",
    "for i in range(num_features):\n",
    "    feature_name = f'Feature_{i+1}'\n",
    "#     mean = x_mean[i]\n",
    "#     std = x_std[i]\n",
    "    value = np.random.normal(x_mean, x_std)\n",
    "    unseen_data[feature_name] = [value]\n",
    "\n",
    "# Convert dictionary to DataFrame\n",
    "unseen_df = pd.DataFrame(unseen_data)\n",
    "\n",
    "# Display the generated unseen data\n",
    "print(\"Unseen Data:\")\n",
    "print(unseen_df)"
   ]
  },
  {
   "cell_type": "code",
   "execution_count": null,
   "metadata": {
    "editable": false,
    "execution": {
     "iopub.status.busy": "2024-05-20T16:09:58.999900Z",
     "iopub.status.idle": "2024-05-20T16:09:59.000390Z",
     "shell.execute_reply": "2024-05-20T16:09:59.000199Z",
     "shell.execute_reply.started": "2024-05-20T16:09:59.000174Z"
    }
   },
   "outputs": [],
   "source": [
    "# Scale the unseen data using the same mean and standard deviation values as the training data\n",
    "unseen_scaled = (unseen_df.values - x_mean) / x_std\n",
    "\n",
    "# Convert the scaled unseen data to a PyTorch tensor\n",
    "unseen_tensor = torch.tensor(unseen_scaled, dtype=torch.float32)\n",
    "\n",
    "# Make predictions using your trained model\n",
    "with torch.no_grad():\n",
    "    neuralNet.eval()  # Set the model to evaluation mode\n",
    "    predictions = neuralNet(unseen_tensor)\n",
    "\n",
    "# Convert predictions tensor to numpy array\n",
    "predictions_array = predictions.numpy()\n",
    "\n",
    "# Display the predictions\n",
    "print(\"Predictions:\")\n",
    "print(predictions_array)\n",
    "\n",
    "# Convert the predictions back to original scale\n",
    "predictions_unscaled = predictions_array * y.std() + y.mean()\n",
    "\n",
    "# Plot the actual training and test data along with the predictions\n",
    "plt.figure(figsize=(10, 6))\n",
    "\n",
    "# Plot training data\n",
    "plt.scatter(range(len(y_train)), y_train, color='blue', label='Training Data')\n",
    "\n",
    "# Plot test data\n",
    "plt.scatter(range(len(y_train), len(y_train) + len(y_test)), y_test, color='red', label='Test Data')\n",
    "\n",
    "# Plot unseen data predictions\n",
    "plt.scatter(len(y_train) + len(y_test), predictions_unscaled, color='green', label='Unseen Data Predictions')\n",
    "\n",
    "plt.xlabel('Sample Index')\n",
    "plt.ylabel('Target Value')\n",
    "plt.title('Comparison of Predictions on Unseen Data with Training and Test Data')\n",
    "plt.legend()\n",
    "plt.grid(True)\n",
    "plt.show()"
   ]
  },
  {
   "cell_type": "markdown",
   "metadata": {
    "editable": false
   },
   "source": [
    "## **Save the model**"
   ]
  },
  {
   "cell_type": "code",
   "execution_count": null,
   "metadata": {
    "editable": false,
    "execution": {
     "iopub.status.busy": "2024-05-20T16:09:59.001842Z",
     "iopub.status.idle": "2024-05-20T16:09:59.002382Z",
     "shell.execute_reply": "2024-05-20T16:09:59.002196Z",
     "shell.execute_reply.started": "2024-05-20T16:09:59.002177Z"
    }
   },
   "outputs": [],
   "source": [
    "torch.save(neuralNet.state_dict(), 'model.pth')\n"
   ]
  },
  {
   "cell_type": "code",
   "execution_count": null,
   "metadata": {
    "editable": false
   },
   "outputs": [],
   "source": []
  },
  {
   "cell_type": "markdown",
   "metadata": {
    "editable": false
   },
   "source": [
    "## **Load model**:"
   ]
  },
  {
   "cell_type": "code",
   "execution_count": null,
   "metadata": {
    "editable": false,
    "execution": {
     "iopub.status.busy": "2024-05-20T16:09:59.003818Z",
     "iopub.status.idle": "2024-05-20T16:09:59.004447Z",
     "shell.execute_reply": "2024-05-20T16:09:59.004178Z",
     "shell.execute_reply.started": "2024-05-20T16:09:59.004154Z"
    }
   },
   "outputs": [],
   "source": [
    "model = NeuralNetwork()  # Instantiate your model\n",
    "model.load_state_dict(torch.load('model.pth'))\n",
    "model.eval()  # Set the model to evaluation mode if needed\n"
   ]
  },
  {
   "cell_type": "markdown",
   "metadata": {
    "editable": false
   },
   "source": [
    "## **Example new data**"
   ]
  },
  {
   "cell_type": "markdown",
   "metadata": {
    "editable": false
   },
   "source": [
    "**Look up hash-map for label encoding**"
   ]
  },
  {
   "cell_type": "code",
   "execution_count": null,
   "metadata": {
    "editable": false,
    "execution": {
     "iopub.status.busy": "2024-05-20T16:09:59.006385Z",
     "iopub.status.idle": "2024-05-20T16:09:59.006982Z",
     "shell.execute_reply": "2024-05-20T16:09:59.006706Z",
     "shell.execute_reply.started": "2024-05-20T16:09:59.006682Z"
    }
   },
   "outputs": [],
   "source": [
    "# Define the columns of the dataset after dropping certain columns\n",
    "columns = non_numeric_columns\n",
    "\n",
    "# Initialize a dictionary to store the string values of the encoded classes\n",
    "string_values = {}\n",
    "class_mappings = {}\n",
    "le = LabelEncoder()\n",
    "# Loop through each column and encode its classes\n",
    "for column in columns:\n",
    "    original_data[column].unique()\n",
    "    \n",
    "    encoded_classes = le.fit_transform(original_data[column])\n",
    "    original_classes = list(le.classes_)\n",
    "    class_mappings[column] = {'original_classes': original_classes, 'encoded_classes': encoded_classes}\n",
    "        \n",
    "    # Create a dictionary to map encoded classes to original string values\n",
    "    encoded_to_string = {encoded: original for encoded, original in zip(le.transform(original_classes), original_classes)}\n",
    "    string_values[column] = encoded_to_string\n",
    "\n",
    "encoded_vals = {}\n",
    "# Display the original and string values of the encoded classes for each column\n",
    "for column, mapping in class_mappings.items():\n",
    "    print(f\"Column: {column}\")\n",
    "    if column in string_values:\n",
    "        encoded_vals[column] = {encoded: string_values[column][encoded] for encoded in mapping['encoded_classes']}\n",
    "        print(\"String values of encoded classes:\", {encoded: string_values[column][encoded] for encoded in mapping['encoded_classes']})\n",
    "    print()\n",
    "    "
   ]
  },
  {
   "cell_type": "code",
   "execution_count": null,
   "metadata": {
    "editable": false,
    "execution": {
     "iopub.status.busy": "2024-05-20T16:09:59.009245Z",
     "iopub.status.idle": "2024-05-20T16:09:59.009820Z",
     "shell.execute_reply": "2024-05-20T16:09:59.009562Z",
     "shell.execute_reply.started": "2024-05-20T16:09:59.009538Z"
    }
   },
   "outputs": [],
   "source": [
    "reverse_encoded_vals = {}\n",
    "\n",
    "for column, mapping in encoded_vals.items():\n",
    "    reverse_encoded_vals[column] = {v: k for k, v in mapping.items()}\n",
    "\n",
    "# Display the reverse encoded values\n",
    "reverse_encoded_vals"
   ]
  },
  {
   "cell_type": "code",
   "execution_count": null,
   "metadata": {
    "editable": false,
    "execution": {
     "iopub.status.busy": "2024-05-20T16:09:59.011557Z",
     "iopub.status.idle": "2024-05-20T16:09:59.012146Z",
     "shell.execute_reply": "2024-05-20T16:09:59.011864Z",
     "shell.execute_reply.started": "2024-05-20T16:09:59.011842Z"
    }
   },
   "outputs": [],
   "source": [
    "# import json\n",
    "# reverse_endoded_json = json.dumps(reverse_encoded_vals)"
   ]
  },
  {
   "cell_type": "code",
   "execution_count": null,
   "metadata": {
    "editable": false,
    "execution": {
     "iopub.status.busy": "2024-05-20T16:09:59.013730Z",
     "iopub.status.idle": "2024-05-20T16:09:59.014307Z",
     "shell.execute_reply": "2024-05-20T16:09:59.014028Z",
     "shell.execute_reply.started": "2024-05-20T16:09:59.014003Z"
    }
   },
   "outputs": [],
   "source": [
    "x = input('give me: ')\n",
    "y = reverse_encoded_vals['sex'][x]\n",
    "y"
   ]
  },
  {
   "cell_type": "code",
   "execution_count": null,
   "metadata": {
    "editable": false,
    "execution": {
     "iopub.status.busy": "2024-05-20T16:09:59.015839Z",
     "iopub.status.idle": "2024-05-20T16:09:59.016353Z",
     "shell.execute_reply": "2024-05-20T16:09:59.016162Z",
     "shell.execute_reply.started": "2024-05-20T16:09:59.016113Z"
    }
   },
   "outputs": [],
   "source": [
    "import json\n",
    "# Helper function to convert all values to standard Python types\n",
    "def convert_to_builtin_type(obj):\n",
    "    if isinstance(obj, dict):\n",
    "        return {k: convert_to_builtin_type(v) for k, v in obj.items()}\n",
    "    elif isinstance(obj, list):\n",
    "        return [convert_to_builtin_type(v) for v in obj]\n",
    "    elif isinstance(obj, np.integer):\n",
    "        return int(obj)\n",
    "    elif isinstance(obj, np.floating):\n",
    "        return float(obj)\n",
    "    elif isinstance(obj, np.ndarray):\n",
    "        return obj.tolist()\n",
    "    else:\n",
    "        return obj\n",
    "\n",
    "\n",
    "# Convert all values to built-in Python types\n",
    "reverse_encoded_vals = convert_to_builtin_type(reverse_encoded_vals)\n",
    "\n",
    "# Encode to JSON\n",
    "reverse_encoded_json = json.dumps(reverse_encoded_vals)\n",
    "\n",
    "# Print the encoded JSON string\n",
    "print(reverse_encoded_json)\n"
   ]
  },
  {
   "cell_type": "code",
   "execution_count": null,
   "metadata": {
    "editable": false,
    "execution": {
     "iopub.status.busy": "2024-05-20T16:09:59.018239Z",
     "iopub.status.idle": "2024-05-20T16:09:59.018663Z",
     "shell.execute_reply": "2024-05-20T16:09:59.018484Z",
     "shell.execute_reply.started": "2024-05-20T16:09:59.018467Z"
    }
   },
   "outputs": [],
   "source": [
    "data_ranges"
   ]
  },
  {
   "cell_type": "code",
   "execution_count": null,
   "metadata": {
    "editable": false,
    "execution": {
     "iopub.status.busy": "2024-05-20T16:09:59.020493Z",
     "iopub.status.idle": "2024-05-20T16:09:59.020922Z",
     "shell.execute_reply": "2024-05-20T16:09:59.020733Z",
     "shell.execute_reply.started": "2024-05-20T16:09:59.020715Z"
    }
   },
   "outputs": [],
   "source": [
    "for k in reverse_encoded_vals:\n",
    "    print(f\"{k}: {reverse_encoded_vals[k]}\")"
   ]
  },
  {
   "cell_type": "code",
   "execution_count": null,
   "metadata": {
    "editable": false,
    "execution": {
     "iopub.status.busy": "2024-05-20T16:09:59.022305Z",
     "iopub.status.idle": "2024-05-20T16:09:59.022720Z",
     "shell.execute_reply": "2024-05-20T16:09:59.022544Z",
     "shell.execute_reply.started": "2024-05-20T16:09:59.022527Z"
    }
   },
   "outputs": [],
   "source": [
    "# Define the columns of the dataset\n",
    "og_data_columns = ['school', 'sex', 'age', 'address', 'famsize', 'Pstatus', 'Medu', 'Fedu',\n",
    "       'Mjob', 'Fjob', 'reason', 'guardian', 'traveltime', 'studytime',\n",
    "       'failures', 'schoolsup', 'famsup', 'nursery', 'higher', 'internet',\n",
    "       'romantic', 'goout', 'G1', 'G2']\n",
    "print(len(og_data_columns))\n",
    "\n",
    "# # Define the mean and standard deviation of the original data\n",
    "\n",
    "# Mean values for each feature\n",
    "mean_data = {\n",
    "    'school': 0.116456,\n",
    "    'sex': 0.473418,\n",
    "    'age': 16.696203,\n",
    "    'address': 0.777215,\n",
    "    'famsize': 0.288608,\n",
    "    'Pstatus': 0.896203,\n",
    "    'Medu': 2.749367,\n",
    "    'Fedu': 2.521519,\n",
    "    'Mjob': 2.169620,\n",
    "    'Fjob': 2.281013,\n",
    "    'reason': 1.255696,\n",
    "    'guardian': 0.853165,\n",
    "    'traveltime': 1.448101,\n",
    "    'studytime': 2.035443,\n",
    "    'failures': 0.334177,\n",
    "    'schoolsup': 0.129114,\n",
    "    'famsup': 0.612658,\n",
    "    'nursery': 0.794937,\n",
    "    'higher': 0.949367,\n",
    "    'internet': 0.832911,\n",
    "    'romantic': 0.334177,\n",
    "    'goout': 3.108861,\n",
    "    'G1': 10.908861,\n",
    "    'G2': 10.713924\n",
    "}\n",
    "\n",
    "# Standard deviation values for each feature\n",
    "std_data = {\n",
    "    'school': 0.321177,\n",
    "    'sex': 0.499926,\n",
    "    'age': 1.276043,\n",
    "    'address': 0.416643,\n",
    "    'famsize': 0.453690,\n",
    "    'Pstatus': 0.305384,\n",
    "    'Medu': 1.094735,\n",
    "    'Fedu': 1.088201,\n",
    "    'Mjob': 1.227473,\n",
    "    'Fjob': 0.863542,\n",
    "    'reason': 1.208236,\n",
    "    'guardian': 0.536684,\n",
    "    'traveltime': 0.697505,\n",
    "    'studytime': 0.839240,\n",
    "    'failures': 0.743651,\n",
    "    'schoolsup': 0.335751,\n",
    "    'famsup': 0.487761,\n",
    "    'nursery': 0.404260,\n",
    "    'higher': 0.219525,\n",
    "    'internet': 0.373528,\n",
    "    'romantic': 0.472300,\n",
    "    'goout': 1.113278,\n",
    "    'G1': 3.319195,\n",
    "    'G2': 3.761505\n",
    "}\n",
    "\n",
    "# Create pandas Series\n",
    "x_mean_original = pd.Series(mean_data)\n",
    "x_std_original = pd.Series(std_data)\n",
    "\n",
    "# Display the Series\n",
    "# print(\"x_mean_original:\")\n",
    "# print(x_mean_original)\n",
    "# print(\"\\nx_std_original:\")\n",
    "# print(x_std_original)\n",
    "\n",
    "for k in reverse_encoded_vals:\n",
    "    print(f\"{k}: {reverse_encoded_vals[k]}\")\n",
    "# # Load the label encoded data\n",
    "# # data = pd.read_csv('your_label_encoded_data.csv')  # Replace with your file path\n",
    "\n",
    "# # Define a function to reverse the label encoding\n",
    "def reverse_label_encoding(label, column):\n",
    "    le = LabelEncoder()\n",
    "    le.fit(data[column])\n",
    "    return le.inverse_transform([label])[0]\n",
    "\n",
    "# # Prompt the user to enter new data\n",
    "new_data = {}\n",
    "# commenting out the input fields\n",
    "# for column in og_data_columns:\n",
    "#     if column in non_numeric_columns:\n",
    "#         input_val = input(f\"Enter the value for {column}: \")\n",
    "#         new_data[column] = reverse_encoded_vals[column][input_val]\n",
    "#     else:\n",
    "#         value = float(input(f\"Enter the value for {column}: \"))\n",
    "#         value = (value - x_mean_original[column]) / x_std_original[column]\n",
    "#         new_data[column] = value\n",
    "\n",
    "# # Convert the new data to a DataFrame\n",
    "# new_data_df = pd.DataFrame([new_data])\n",
    "\n",
    "# # # Reverse the standardization\n",
    "# for column in columns:\n",
    "#     new_data_df[column] = (new_data_df[column] * original_std[column]) + original_mean[column]\n",
    "\n",
    "\n",
    "# # # Print the new data\n",
    "# # print(\"\\nNew data:\")\n",
    "# new_data_df\n",
    "\n",
    "# # Now you can use the new data to make predictions using your model\n"
   ]
  },
  {
   "cell_type": "code",
   "execution_count": null,
   "metadata": {
    "editable": false,
    "execution": {
     "iopub.status.busy": "2024-05-20T16:09:59.024218Z",
     "iopub.status.idle": "2024-05-20T16:09:59.024610Z",
     "shell.execute_reply": "2024-05-20T16:09:59.024444Z",
     "shell.execute_reply.started": "2024-05-20T16:09:59.024428Z"
    }
   },
   "outputs": [],
   "source": [
    "# new_data_df\n"
   ]
  },
  {
   "cell_type": "code",
   "execution_count": null,
   "metadata": {
    "editable": false,
    "execution": {
     "iopub.status.busy": "2024-05-20T16:09:59.026586Z",
     "iopub.status.idle": "2024-05-20T16:09:59.027191Z",
     "shell.execute_reply": "2024-05-20T16:09:59.026897Z",
     "shell.execute_reply.started": "2024-05-20T16:09:59.026864Z"
    }
   },
   "outputs": [],
   "source": [
    "# unseen_tensor = torch.tensor(new_data_df.values, dtype=torch.float32)\n",
    "\n",
    "# # Make predictions using your trained model\n",
    "# with torch.no_grad():\n",
    "#     neuralNet.eval()  # Set the model to evaluation mode\n",
    "#     predictions = neuralNet(unseen_tensor)\n",
    "\n",
    "# # Convert predictions tensor to numpy array\n",
    "# predictions_array = predictions.numpy()\n",
    "\n",
    "# # Display the predictions\n",
    "# print(\"Predictions:\")\n",
    "# print(predictions_array)\n",
    "\n",
    "# # Convert the predictions back to original scale\n",
    "\n",
    "\n",
    "\n",
    "# #predictions_unscaled = predictions_array * original_y_std + original_y_mean\n",
    "# print(f\"unscaled prediction: {original_y_std}\")"
   ]
  },
  {
   "cell_type": "code",
   "execution_count": null,
   "metadata": {
    "editable": false,
    "execution": {
     "iopub.status.busy": "2024-05-20T16:09:59.028758Z",
     "iopub.status.idle": "2024-05-20T16:09:59.029395Z",
     "shell.execute_reply": "2024-05-20T16:09:59.029126Z",
     "shell.execute_reply.started": "2024-05-20T16:09:59.029102Z"
    }
   },
   "outputs": [],
   "source": [
    "# {'age': {'max': 22, 'min': 15},\n",
    "#  'Medu': {'max': 4, 'min': 0},\n",
    "#  'Fedu': {'max': 4, 'min': 0},\n",
    "#  'traveltime': {'max': 4, 'min': 1},\n",
    "#  'studytime': {'max': 4, 'min': 1},\n",
    "#  'failures': {'max': 3, 'min': 0},\n",
    "#  'famrel': {'max': 5, 'min': 1},\n",
    "#  'freetime': {'max': 5, 'min': 1},\n",
    "#  'goout': {'max': 5, 'min': 1},\n",
    "#  'Dalc': {'max': 5, 'min': 1},\n",
    "#  'Walc': {'max': 5, 'min': 1},\n",
    "#  'health': {'max': 5, 'min': 1},\n",
    "#  'absences': {'max': 75, 'min': 0},\n",
    "#  'G1': {'max': 19, 'min': 3},\n",
    "#  'G2': {'max': 19, 'min': 0},\n",
    "#  'G3': {'max': 20, 'min': 0}}\n",
    "\n",
    "# {'sex': {'F': 0, 'M': 1},\n",
    "#  'address': {'U': 1, 'R': 0},\n",
    "#  'famsup': {'no': 0, 'yes': 1},\n",
    "#  'Mjob': {'at_home': 0, 'health': 1, 'other': 2, 'services': 3, 'teacher': 4},\n",
    "#  'Fjob': {'teacher': 4, 'other': 2, 'services': 3, 'health': 1, 'at_home': 0},\n",
    "#  'school': {'GP': 0, 'MS': 1},\n",
    "#  'nursery': {'yes': 1, 'no': 0},\n",
    "#  'Pstatus': {'A': 0, 'T': 1},\n",
    "#  'guardian': {'mother': 1, 'father': 0, 'other': 2},\n",
    "#  'famsize': {'GT3': 0, 'LE3': 1},\n",
    "#  'schoolsup': {'yes': 1, 'no': 0},\n",
    "#  'reason': {'course': 0, 'other': 2, 'home': 1, 'reputation': 3},\n",
    "#  'higher': {'yes': 1, 'no': 0},\n",
    "#  'internet': {'no': 0, 'yes': 1},\n",
    "#  'romantic': {'no': 0, 'yes': 1}}"
   ]
  },
  {
   "cell_type": "markdown",
   "metadata": {
    "editable": false
   },
   "source": []
  },
  {
   "cell_type": "markdown",
   "metadata": {
    "editable": false
   },
   "source": []
  },
  {
   "cell_type": "markdown",
   "metadata": {
    "editable": false
   },
   "source": [
    "# Define the mean and standard deviation of the original data\n"
   ]
  },
  {
   "cell_type": "code",
   "execution_count": null,
   "metadata": {
    "editable": false,
    "execution": {
     "iopub.status.busy": "2024-05-20T16:09:59.031292Z",
     "iopub.status.idle": "2024-05-20T16:09:59.031711Z",
     "shell.execute_reply": "2024-05-20T16:09:59.031534Z",
     "shell.execute_reply.started": "2024-05-20T16:09:59.031516Z"
    }
   },
   "outputs": [],
   "source": [
    "original_mean = X.mean()\n",
    "original_std = X.std()\n"
   ]
  },
  {
   "cell_type": "code",
   "execution_count": null,
   "metadata": {
    "editable": false,
    "execution": {
     "iopub.status.busy": "2024-05-20T16:09:59.033696Z",
     "iopub.status.idle": "2024-05-20T16:09:59.034269Z",
     "shell.execute_reply": "2024-05-20T16:09:59.033990Z",
     "shell.execute_reply.started": "2024-05-20T16:09:59.033968Z"
    }
   },
   "outputs": [],
   "source": [
    "original_data.info()"
   ]
  },
  {
   "cell_type": "code",
   "execution_count": null,
   "metadata": {
    "editable": false,
    "execution": {
     "iopub.status.busy": "2024-05-20T16:09:59.035565Z",
     "iopub.status.idle": "2024-05-20T16:09:59.035976Z",
     "shell.execute_reply": "2024-05-20T16:09:59.035797Z",
     "shell.execute_reply.started": "2024-05-20T16:09:59.035780Z"
    }
   },
   "outputs": [],
   "source": [
    "data.info()"
   ]
  },
  {
   "cell_type": "code",
   "execution_count": null,
   "metadata": {
    "editable": false
   },
   "outputs": [],
   "source": [
    "\n"
   ]
  },
  {
   "cell_type": "code",
   "execution_count": null,
   "metadata": {
    "editable": false
   },
   "outputs": [],
   "source": []
  }
 ],
 "metadata": {
  "kaggle": {
   "accelerator": "none",
   "dataSources": [
    {
     "datasetId": 52721,
     "sourceId": 99691,
     "sourceType": "datasetVersion"
    }
   ],
   "dockerImageVersionId": 30698,
   "isGpuEnabled": false,
   "isInternetEnabled": false,
   "language": "python",
   "sourceType": "notebook"
  },
  "kernelspec": {
   "display_name": "Python 3",
   "language": "python",
   "name": "python3"
  },
  "language_info": {
   "codemirror_mode": {
    "name": "ipython",
    "version": 3
   },
   "file_extension": ".py",
   "mimetype": "text/x-python",
   "name": "python",
   "nbconvert_exporter": "python",
   "pygments_lexer": "ipython3",
   "version": "3.7.3"
  },
  "papermill": {
   "default_parameters": {},
   "duration": 10.324732,
   "end_time": "2024-05-10T15:50:39.012511",
   "environment_variables": {},
   "exception": null,
   "input_path": "__notebook__.ipynb",
   "output_path": "__notebook__.ipynb",
   "parameters": {},
   "start_time": "2024-05-10T15:50:28.687779",
   "version": "2.5.0"
  }
 },
 "nbformat": 4,
 "nbformat_minor": 4
}
